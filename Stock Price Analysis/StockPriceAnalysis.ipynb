{
 "cells": [
  {
   "cell_type": "markdown",
   "metadata": {},
   "source": [
    "# Task 1: \n",
    "### Do the following:\n",
    "###  1. Transform each stock prices time series to daily returns by using the daily returns formula Rt =(Pt - P(t-1))/Pt-1; where Rt and Pt are the return and price, respectively, at day t."
   ]
  },
  {
   "cell_type": "code",
   "execution_count": 45,
   "metadata": {},
   "outputs": [
    {
     "name": "stdout",
     "output_type": "stream",
     "text": [
      "AAPL.csv\n",
      "AET.csv\n",
      "APCxlsx.csv\n",
      "AXP.csv\n",
      "BAC.csv\n",
      "BMY.csv\n",
      "COF.csv\n",
      "F.csv\n",
      "KO.csv\n",
      "GOOG.csv\n",
      "HON.csv\n",
      "IBM.csv\n",
      "OKE.csv\n",
      "T.csv\n",
      "UPS.csv\n",
      "  Date_AAPL  Close_AAPL  Return_AAPL  Date_AET  Close_AET  Return_AET  \\\n",
      "0  1/3/2012   58.747143     0.000000  1/3/2012  42.400002    0.000000   \n",
      "1  1/4/2012   59.062859     0.005374  1/4/2012  43.200001    0.018868   \n",
      "2  1/5/2012   59.718571     0.011102  1/5/2012  43.630001    0.009954   \n",
      "3  1/6/2012   60.342857     0.010454  1/6/2012  44.070000    0.010085   \n",
      "4  1/9/2012   60.247143    -0.001586  1/9/2012  44.139999    0.001588   \n",
      "\n",
      "  Date_APCxlsx  Close_APCxlsx  Return_APCxlsx  Date_AXP     ...      \\\n",
      "0     1/3/2012      78.650002        0.000000  1/3/2012     ...       \n",
      "1     1/4/2012      79.769997        0.014240  1/4/2012     ...       \n",
      "2     1/5/2012      80.800003        0.012912  1/5/2012     ...       \n",
      "3     1/6/2012      80.269997       -0.006559  1/6/2012     ...       \n",
      "4     1/9/2012      80.769997        0.006229  1/9/2012     ...       \n",
      "\n",
      "   Return_IBM  Date_OKE  Close_OKE  Return_OKE    Date_T    Close_T  Return_T  \\\n",
      "0    0.000000  1/3/2012  38.268253    0.000000  1/3/2012  30.379999  0.000000   \n",
      "1   -0.004079  1/4/2012  38.237610   -0.000801  1/4/2012  30.430000  0.001646   \n",
      "2   -0.004743  1/5/2012  38.277008    0.001030  1/5/2012  30.400000 -0.000986   \n",
      "3   -0.011481  1/6/2012  38.176327   -0.002630  1/6/2012  29.680000 -0.023684   \n",
      "4   -0.005204  1/9/2012  37.979340   -0.005160  1/9/2012  29.660000 -0.000674   \n",
      "\n",
      "   Date_UPS  Close_UPS  Return_UPS  \n",
      "0  1/3/2012  74.160004    0.000000  \n",
      "1  1/4/2012  73.839996   -0.004315  \n",
      "2  1/5/2012  73.120003   -0.009751  \n",
      "3  1/6/2012  73.480003    0.004923  \n",
      "4  1/9/2012  73.449997   -0.000408  \n",
      "\n",
      "[5 rows x 45 columns]\n",
      "Index(['Date_AAPL', 'Close_AAPL', 'Return_AAPL', 'Date_AET', 'Close_AET',\n",
      "       'Return_AET', 'Date_APCxlsx', 'Close_APCxlsx', 'Return_APCxlsx',\n",
      "       'Date_AXP', 'Close_AXP', 'Return_AXP', 'Date_BAC', 'Close_BAC',\n",
      "       'Return_BAC', 'Date_BMY', 'Close_BMY', 'Return_BMY', 'Date_COF',\n",
      "       'Close_COF', 'Return_COF', 'Date_F', 'Close_F', 'Return_F', 'Date_KO',\n",
      "       'Close_KO', 'Return_KO', 'Date_GOOG', 'Close_GOOG', 'Return_GOOG',\n",
      "       'Date_HON', 'Close_HON', 'Return_HON', 'Date_IBM', 'Close_IBM',\n",
      "       'Return_IBM', 'Date_OKE', 'Close_OKE', 'Return_OKE', 'Date_T',\n",
      "       'Close_T', 'Return_T', 'Date_UPS', 'Close_UPS', 'Return_UPS'],\n",
      "      dtype='object')\n"
     ]
    }
   ],
   "source": [
    "import pandas as pd\n",
    "import string\n",
    "\n",
    "#function to get returns\n",
    "def get_returns(df,file):\n",
    "    i=0\n",
    "    for index, row in df.iterrows():\n",
    "        if i==0:\n",
    "            previous = row['Close']\n",
    "            df.set_value(index,'Return',0)\n",
    "        else:\n",
    "            ret = (row['Close']-previous)/(previous)\n",
    "            previous = row['Close']\n",
    "            df.set_value(index,'Return',ret)\n",
    "        i=1\n",
    "    df=df.rename(columns = {'Date':'Date_'+file,'Close':'Close_'+file,'Return':'Return_'+file})\n",
    "    return df\n",
    " \n",
    "\n",
    "filelist=('AAPL.csv','AET.csv','APCxlsx.csv','AXP.csv','BAC.csv','BMY.csv','COF.csv','F.csv','KO.csv','GOOG.csv','HON.csv','IBM.csv','OKE.csv','T.csv','UPS.csv')\n",
    "i=0\n",
    "for File in filelist:\n",
    "    df=pd.read_csv(File)\n",
    "    print(File)\n",
    "    File=str.replace(File, '.csv', '')\n",
    "    df=get_returns(df,File)\n",
    "    \n",
    "    if i==0:\n",
    "        df_freturn=df\n",
    "    else:\n",
    "        df_freturn=pd.concat([df_freturn, df], axis=1)\n",
    "    i+=1\n",
    "    \n",
    "print(df_freturn.head())\n",
    "print(df_freturn.columns)\n",
    "\n",
    "\n",
    "\n"
   ]
  },
  {
   "cell_type": "markdown",
   "metadata": {},
   "source": [
    "###  2. Find the best normal fit to each of the stock daily return time series and use the Kolmogorov-Smirnov goodness of fit test to report how good is the \"best fit\"."
   ]
  },
  {
   "cell_type": "code",
   "execution_count": 46,
   "metadata": {},
   "outputs": [
    {
     "name": "stdout",
     "output_type": "stream",
     "text": [
      "Kolmogorov-Smirnov goodness of fit test for stock:AAPL\n",
      "pvalue:0.00000000000000000000000000000000000000000000000000\n",
      "Kolmogorov-Smirnov goodness of fit test for stock:AET\n",
      "pvalue:0.00000000000000000000000000000000000000000000000000\n",
      "Kolmogorov-Smirnov goodness of fit test for stock:APCxlsx\n",
      "pvalue:0.00000000000000000000000000000000000000000000000000\n",
      "Kolmogorov-Smirnov goodness of fit test for stock:AXP\n",
      "pvalue:0.00000000000000000000000000000000000000000000000000\n",
      "Kolmogorov-Smirnov goodness of fit test for stock:BAC\n",
      "pvalue:0.00000000000000000000000000000000000000000000000000\n",
      "Kolmogorov-Smirnov goodness of fit test for stock:BMY\n",
      "pvalue:0.00000000000000000000000000000000000000000000000000\n",
      "Kolmogorov-Smirnov goodness of fit test for stock:COF\n",
      "pvalue:0.00000000000000000000000000000000000000000000000000\n",
      "Kolmogorov-Smirnov goodness of fit test for stock:F\n",
      "pvalue:0.00000000000000000000000000000000000000000000000000\n",
      "Kolmogorov-Smirnov goodness of fit test for stock:KO\n",
      "pvalue:0.00000000000000000000000000000000000000000000000000\n",
      "Kolmogorov-Smirnov goodness of fit test for stock:GOOG\n",
      "pvalue:0.00000000000000000000000000000000000000000000000000\n",
      "Kolmogorov-Smirnov goodness of fit test for stock:HON\n",
      "pvalue:0.00000000000000000000000000000000000000000000000000\n",
      "Kolmogorov-Smirnov goodness of fit test for stock:IBM\n",
      "pvalue:0.00000000000000000000000000000000000000000000000000\n",
      "Kolmogorov-Smirnov goodness of fit test for stock:OKE\n",
      "pvalue:0.00000000000000000000000000000000000000000000000000\n",
      "Kolmogorov-Smirnov goodness of fit test for stock:T\n",
      "pvalue:0.00000000000000000000000000000000000000000000000000\n",
      "Kolmogorov-Smirnov goodness of fit test for stock:UPS\n",
      "pvalue:0.00000000000000000000000000000000000000000000000000\n"
     ]
    }
   ],
   "source": [
    "from scipy.stats import kstest\n",
    "\n",
    "fitlist=('AAPL','AET','APCxlsx','AXP','BAC','BMY','COF','F','KO','GOOG','HON','IBM','OKE','T','UPS')\n",
    "\n",
    "for fit in fitlist:\n",
    "    print('Kolmogorov-Smirnov goodness of fit test for stock:'+fit)\n",
    "    stats,pvalue=kstest(df_freturn['Return_'+fit],'norm')\n",
    "    print(\"pvalue:%.50f\"% pvalue)\n"
   ]
  },
  {
   "cell_type": "markdown",
   "metadata": {},
   "source": [
    "###  3. For each stock draw a frequency graph overlaid by your best normal approximation to illustrate your fit."
   ]
  },
  {
   "cell_type": "code",
   "execution_count": 47,
   "metadata": {},
   "outputs": [
    {
     "name": "stdout",
     "output_type": "stream",
     "text": [
      "Frequency graph overlaid by your best normal approximation for:AAPL\n"
     ]
    },
    {
     "data": {
      "image/png": "[encoded data removed]",
      "text/plain": [
       "<matplotlib.figure.Figure at 0x1a9e4405e80>"
      ]
     },
     "metadata": {},
     "output_type": "display_data"
    },
    {
     "name": "stdout",
     "output_type": "stream",
     "text": [
      "Frequency graph overlaid by your best normal approximation for:AET\n"
     ]
    },
    {
     "data": {
      "image/png": "[encoded data removed]",
      "text/plain": [
       "<matplotlib.figure.Figure at 0x1a9dd492278>"
      ]
     },
     "metadata": {},
     "output_type": "display_data"
    },
    {
     "name": "stdout",
     "output_type": "stream",
     "text": [
      "Frequency graph overlaid by your best normal approximation for:APCxlsx\n"
     ]
    },
    {
     "data": {
      "image/png": "[encoded data removed]",
      "text/plain": [
       "<matplotlib.figure.Figure at 0x1a9e443f7b8>"
      ]
     },
     "metadata": {},
     "output_type": "display_data"
    },
    {
     "name": "stdout",
     "output_type": "stream",
     "text": [
      "Frequency graph overlaid by your best normal approximation for:AXP\n"
     ]
    },
    {
     "data": {
      "image/png": "[encoded data removed]",
      "text/plain": [
       "<matplotlib.figure.Figure at 0x1a9e0331198>"
      ]
     },
     "metadata": {},
     "output_type": "display_data"
    },
    {
     "name": "stdout",
     "output_type": "stream",
     "text": [
      "Frequency graph overlaid by your best normal approximation for:BAC\n"
     ]
    },
    {
     "data": {
      "image/png": "[encoded data removed]",
      "text/plain": [
       "<matplotlib.figure.Figure at 0x1a9e416ea58>"
      ]
     },
     "metadata": {},
     "output_type": "display_data"
    },
    {
     "name": "stdout",
     "output_type": "stream",
     "text": [
      "Frequency graph overlaid by your best normal approximation for:BMY\n"
     ]
    },
    {
     "data": {
      "image/png": "[encoded data removed]",
      "text/plain": [
       "<matplotlib.figure.Figure at 0x1a9e3d354e0>"
      ]
     },
     "metadata": {},
     "output_type": "display_data"
    },
    {
     "name": "stdout",
     "output_type": "stream",
     "text": [
      "Frequency graph overlaid by your best normal approximation for:COF\n"
     ]
    },
    {
     "data": {
      "image/png": "[encoded data removed]",
      "text/plain": [
       "<matplotlib.figure.Figure at 0x1a9e4195f60>"
      ]
     },
     "metadata": {},
     "output_type": "display_data"
    },
    {
     "name": "stdout",
     "output_type": "stream",
     "text": [
      "Frequency graph overlaid by your best normal approximation for:F\n"
     ]
    },
    {
     "data": {
      "image/png": "[encoded data removed]",
      "text/plain": [
       "<matplotlib.figure.Figure at 0x1a9e416e860>"
      ]
     },
     "metadata": {},
     "output_type": "display_data"
    },
    {
     "name": "stdout",
     "output_type": "stream",
     "text": [
      "Frequency graph overlaid by your best normal approximation for:KO\n"
     ]
    },
    {
     "data": {
      "image/png": "[encoded data removed]",
      "text/plain": [
       "<matplotlib.figure.Figure at 0x1a98010e400>"
      ]
     },
     "metadata": {},
     "output_type": "display_data"
    },
    {
     "name": "stdout",
     "output_type": "stream",
     "text": [
      "Frequency graph overlaid by your best normal approximation for:GOOG\n"
     ]
    },
    {
     "data": {
      "image/png": "[encoded data removed]",
      "text/plain": [
       "<matplotlib.figure.Figure at 0x1a9800fca90>"
      ]
     },
     "metadata": {},
     "output_type": "display_data"
    },
    {
     "name": "stdout",
     "output_type": "stream",
     "text": [
      "Frequency graph overlaid by your best normal approximation for:HON\n"
     ]
    },
    {
     "data": {
      "image/png": "[encoded data removed]",
      "text/plain": [
       "<matplotlib.figure.Figure at 0x1a98029f438>"
      ]
     },
     "metadata": {},
     "output_type": "display_data"
    },
    {
     "name": "stdout",
     "output_type": "stream",
     "text": [
      "Frequency graph overlaid by your best normal approximation for:IBM\n"
     ]
    },
    {
     "data": {
      "image/png": "[encoded data removed]",
      "text/plain": [
       "<matplotlib.figure.Figure at 0x1a9804112e8>"
      ]
     },
     "metadata": {},
     "output_type": "display_data"
    },
    {
     "name": "stdout",
     "output_type": "stream",
     "text": [
      "Frequency graph overlaid by your best normal approximation for:OKE\n"
     ]
    },
    {
     "data": {
      "image/png": "[encoded data removed]",
      "text/plain": [
       "<matplotlib.figure.Figure at 0x1a98034bcf8>"
      ]
     },
     "metadata": {},
     "output_type": "display_data"
    },
    {
     "name": "stdout",
     "output_type": "stream",
     "text": [
      "Frequency graph overlaid by your best normal approximation for:T\n"
     ]
    },
    {
     "data": {
      "image/png": "[encoded data removed]",
      "text/plain": [
       "<matplotlib.figure.Figure at 0x1a980529240>"
      ]
     },
     "metadata": {},
     "output_type": "display_data"
    },
    {
     "name": "stdout",
     "output_type": "stream",
     "text": [
      "Frequency graph overlaid by your best normal approximation for:UPS\n"
     ]
    },
    {
     "data": {
      "image/png": "[encoded data removed]",
      "text/plain": [
       "<matplotlib.figure.Figure at 0x1a980545470>"
      ]
     },
     "metadata": {},
     "output_type": "display_data"
    }
   ],
   "source": [
    "import numpy as np\n",
    "from scipy.stats import norm\n",
    "import matplotlib.pyplot as plt\n",
    "\n",
    "fitlist=('AAPL','AET','APCxlsx','AXP','BAC','BMY','COF','F','KO','GOOG','HON','IBM','OKE','T','UPS')\n",
    "\n",
    "for fit in fitlist:\n",
    "# Fit a normal distribution to the data:\n",
    "    mu, std = norm.fit(df_freturn['Return_'+fit])\n",
    "    \n",
    "# Plot the histogram.\n",
    "    plt.hist(df_freturn['Return_'+fit], bins=50, normed=True, alpha=0.6, color='g')\n",
    "\n",
    "    \n",
    "# Plot the PDF.\n",
    "    xmin, xmax = plt.xlim()\n",
    "    x = np.linspace(xmin, xmax, 100)\n",
    "    p = norm.pdf(x, mu, std)\n",
    "    plt.plot(x, p, 'k', linewidth=2)\n",
    "    title = \"Fit results: mu = %.2f,  std = %.2f\" % (mu, std)\n",
    "    plt.title(title)\n",
    "    print('Frequency graph overlaid by your best normal approximation for:'+fit)\n",
    "    plt.show()"
   ]
  },
  {
   "cell_type": "markdown",
   "metadata": {},
   "source": [
    "###  4  Define in your code vectors W = (W1; : : : ;W15) of invested wealth, w = (w1; : : : ;w15) of investment weights where wi := Wi=W. Define also x = Ww = (Ww1; : : : ;Ww15), remember that W= Ww = x.   Hint: Use Scipy or Statsmodels to do the fitting and goodness of fit test. The text file useful links.txt included in the final project materials package has many links to examples n how to do this (including drawing the graphs).\n",
    "\n",
    "###  5. Suppose that we have a total wealth W = 1;500;000 dollars. Let p0 be the initial investment position where all our wealth is invested evenly across the 15 assets. Then for p0 we have that Wi = 100;000 dollars for every asset i 2 f1; 2; : : : ; 15g."
   ]
  },
  {
   "cell_type": "code",
   "execution_count": 48,
   "metadata": {},
   "outputs": [
    {
     "name": "stdout",
     "output_type": "stream",
     "text": [
      "Final allocation proportions\n",
      "[0.06666666666666667, 0.06666666666666667, 0.06666666666666667, 0.06666666666666667, 0.06666666666666667, 0.06666666666666667, 0.06666666666666667, 0.06666666666666667, 0.06666666666666667, 0.06666666666666667, 0.06666666666666667, 0.06666666666666667, 0.06666666666666667, 0.06666666666666667, 0.06666666666666667]\n"
     ]
    }
   ],
   "source": [
    "#Total Wealth\n",
    "Tot_W=1500000\n",
    "\n",
    "#Portfolio\n",
    "portfolio=(100000,100000,100000,100000,100000,100000,100000,100000,100000,100000,100000,100000,100000,100000,100000)\n",
    "\n",
    "#Final allocation proportions\n",
    "Final_prop_alloc=[x/Tot_W for x in portfolio]\n",
    "\n",
    "print('Final allocation proportions')\n",
    "print(Final_prop_alloc)\n"
   ]
  },
  {
   "cell_type": "markdown",
   "metadata": {},
   "source": [
    "###  6. Calculate from the returns data the returns covariance matrix Summation."
   ]
  },
  {
   "cell_type": "code",
   "execution_count": 49,
   "metadata": {},
   "outputs": [
    {
     "name": "stdout",
     "output_type": "stream",
     "text": [
      "                Return_AAPL  Return_AET  Return_APCxlsx  Return_AXP  \\\n",
      "Return_AAPL        0.000334    0.000033        0.000066    0.000055   \n",
      "Return_AET         0.000033    0.000218        0.000072    0.000042   \n",
      "Return_APCxlsx     0.000066    0.000072        0.000278    0.000098   \n",
      "Return_AXP         0.000055    0.000042        0.000098    0.000144   \n",
      "Return_BAC         0.000087    0.000080        0.000162    0.000126   \n",
      "Return_BMY         0.000013    0.000048        0.000062    0.000056   \n",
      "Return_COF         0.000071    0.000060        0.000109    0.000109   \n",
      "Return_F           0.000078    0.000063        0.000108    0.000083   \n",
      "Return_KO          0.000029    0.000033        0.000059    0.000049   \n",
      "Return_GOOG        0.000065    0.000031        0.000060    0.000064   \n",
      "Return_HON         0.000050    0.000062        0.000104    0.000083   \n",
      "Return_IBM         0.000046    0.000033        0.000069    0.000035   \n",
      "Return_OKE         0.000034    0.000038        0.000078    0.000059   \n",
      "Return_T           0.000026    0.000021        0.000047    0.000044   \n",
      "Return_UPS         0.000032    0.000038        0.000058    0.000045   \n",
      "\n",
      "                Return_BAC  Return_BMY  Return_COF  Return_F  Return_KO  \\\n",
      "Return_AAPL       0.000087    0.000013    0.000071  0.000078   0.000029   \n",
      "Return_AET        0.000080    0.000048    0.000060  0.000063   0.000033   \n",
      "Return_APCxlsx    0.000162    0.000062    0.000109  0.000108   0.000059   \n",
      "Return_AXP        0.000126    0.000056    0.000109  0.000083   0.000049   \n",
      "Return_BAC        0.000409    0.000057    0.000154  0.000147   0.000055   \n",
      "Return_BMY        0.000057    0.000158    0.000051  0.000042   0.000041   \n",
      "Return_COF        0.000154    0.000051    0.000220  0.000095   0.000045   \n",
      "Return_F          0.000147    0.000042    0.000095  0.000240   0.000041   \n",
      "Return_KO         0.000055    0.000041    0.000045  0.000041   0.000083   \n",
      "Return_GOOG       0.000077    0.000032    0.000072  0.000059   0.000033   \n",
      "Return_HON        0.000112    0.000058    0.000093  0.000079   0.000048   \n",
      "Return_IBM        0.000070    0.000027    0.000040  0.000055   0.000032   \n",
      "Return_OKE        0.000076    0.000042    0.000057  0.000043   0.000048   \n",
      "Return_T          0.000058    0.000037    0.000038  0.000033   0.000037   \n",
      "Return_UPS        0.000066    0.000038    0.000047  0.000051   0.000031   \n",
      "\n",
      "                Return_GOOG  Return_HON  Return_IBM  Return_OKE  Return_T  \\\n",
      "Return_AAPL        0.000065    0.000050    0.000046    0.000034  0.000026   \n",
      "Return_AET         0.000031    0.000062    0.000033    0.000038  0.000021   \n",
      "Return_APCxlsx     0.000060    0.000104    0.000069    0.000078  0.000047   \n",
      "Return_AXP         0.000064    0.000083    0.000035    0.000059  0.000044   \n",
      "Return_BAC         0.000077    0.000112    0.000070    0.000076  0.000058   \n",
      "Return_BMY         0.000032    0.000058    0.000027    0.000042  0.000037   \n",
      "Return_COF         0.000072    0.000093    0.000040    0.000057  0.000038   \n",
      "Return_F           0.000059    0.000079    0.000055    0.000043  0.000033   \n",
      "Return_KO          0.000033    0.000048    0.000032    0.000048  0.000037   \n",
      "Return_GOOG        0.000198    0.000061    0.000037    0.000036  0.000033   \n",
      "Return_HON         0.000061    0.000136    0.000048    0.000059  0.000041   \n",
      "Return_IBM         0.000037    0.000048    0.000121    0.000034  0.000029   \n",
      "Return_OKE         0.000036    0.000059    0.000034    0.000271  0.000039   \n",
      "Return_T           0.000033    0.000041    0.000029    0.000039  0.000089   \n",
      "Return_UPS         0.000036    0.000056    0.000031    0.000038  0.000030   \n",
      "\n",
      "                Return_UPS  \n",
      "Return_AAPL       0.000032  \n",
      "Return_AET        0.000038  \n",
      "Return_APCxlsx    0.000058  \n",
      "Return_AXP        0.000045  \n",
      "Return_BAC        0.000066  \n",
      "Return_BMY        0.000038  \n",
      "Return_COF        0.000047  \n",
      "Return_F          0.000051  \n",
      "Return_KO         0.000031  \n",
      "Return_GOOG       0.000036  \n",
      "Return_HON        0.000056  \n",
      "Return_IBM        0.000031  \n",
      "Return_OKE        0.000038  \n",
      "Return_T          0.000030  \n",
      "Return_UPS        0.000080  \n"
     ]
    }
   ],
   "source": [
    "fitlist=('AAPL','AET','APCxlsx','AXP','BAC','BMY','COF','F','KO','GOOG','HON','IBM','OKE','T','UPS')\n",
    "\n",
    "i=0\n",
    "for fit in fitlist:\n",
    "     if i==0:\n",
    "        df_cov=df_freturn['Return_'+fit]\n",
    "     else:\n",
    "        df_cov=pd.concat([df_cov,df_freturn['Return_'+fit]], axis=1)\n",
    "        \n",
    "     i+=1\n",
    "\n",
    "#print(df_cov.head())\n",
    "\n",
    "print(df_cov.cov())\n",
    "    "
   ]
  },
  {
   "cell_type": "markdown",
   "metadata": {},
   "source": [
    "# Task 2: \n",
    "###  Task 2: Given weights w, total wealth W, normal models, and covariance matrix (as obtained in Task 1), do the following:\n",
    "### 1. Write a python function that calculates the mean and variance of the portfolio rate of returns. Test the function on the even position p0."
   ]
  },
  {
   "cell_type": "code",
   "execution_count": 8,
   "metadata": {},
   "outputs": [
    {
     "name": "stdout",
     "output_type": "stream",
     "text": [
      "[0.00078620611581036533, 0.0010672897489697355, 0.00015593992817332524, 0.0013247169693284091, 0.0021720455478908933, 0.00091093838004948724, 0.0012260280392598695, 0.00077060654022177407, 0.00036745060176107165, 0.0011367612721372784, 0.0010581373937979194, 7.4393304899258094e-05, 0.00082863195991519966, 0.00033541247262073643, 0.00073470323500221687]\n",
      "9.32882067236e-05\n",
      "8.71761693566e-07\n"
     ]
    }
   ],
   "source": [
    "import numpy as np\n",
    "from scipy.stats import norm\n",
    "import matplotlib.pyplot as plt\n",
    "\n",
    "fitlist=('AAPL','AET','APCxlsx','AXP','BAC','BMY','COF','F','KO','GOOG','HON','IBM','OKE','T','UPS')\n",
    "\n",
    "mean=[]\n",
    "for fit in fitlist:\n",
    "# Fit a normal distribution to the data:\n",
    "    mu, std = norm.fit(df_freturn['Return_'+fit])\n",
    "    mean.append(mu)\n",
    "\n",
    "print(mean)\n",
    "\n",
    "fit_mu=np.random.multivariate_normal(mean,df_cov.cov(),502)\n",
    "    \n",
    "Fit_mu_even = [x/15 for x in fit_mu]\n",
    "\n",
    "print(np.mean(Fit_mu_even))\n",
    "\n",
    "\n",
    "print(np.var(Fit_mu_even))\n"
   ]
  },
  {
   "cell_type": "markdown",
   "metadata": {},
   "source": [
    "2. Write a python function that obtains the portfolio rate of returns diversified VaR at 95%\n",
    "confidence level (see definition of VaR and quantile). Here we use an fit such that on the\n",
    "standard normal distribution the probability of observing a loss worse than fit is 95%.\n",
    "Test the function on the even position p0.\n",
    "3\n",
    "3. Write a python function that calculates the individual VaR at 95% confidence level for a given\n",
    "asset. Test the function on the even position p0.\n",
    "4. Write a python function that calculates the undiversified VaR at 95% confidence level for a\n",
    "given asset. Test the function on the even position p0.\n",
    "5. Write a python function that calculates the benefit from diversification. Test the function on\n",
    "the even position p0."
   ]
  },
  {
   "cell_type": "code",
   "execution_count": 9,
   "metadata": {},
   "outputs": [
    {
     "name": "stdout",
     "output_type": "stream",
     "text": [
      "2310.86244163\n",
      "{'AAPL_Div_VaR': 1825.3451885349621, 'AET_Div_VaR': 1474.4375130407773, 'APCxlsx_Div_VaR': 1665.5161289632006, 'AXP_Div_VaR': 1198.2970156224762, 'BAC_Div_VaR': 2021.4708721509608, 'BMY_Div_VaR': 1256.3617308308117, 'COF_Div_VaR': 1480.1237737944004, 'F_Div_VaR': 1546.8797468406065, 'KO_Div_VaR': 909.01385778639269, 'GOOG_Div_VaR': 1405.0240706336758, 'HON_Div_VaR': 1164.5041709619029, 'IBM_Div_VaR': 1098.671216251392, 'OKE_Div_VaR': 1645.2690327615576, 'T_Div_VaR': 940.09761086394531, 'UPS_Div_VaR': 895.83704734654873}\n",
      "UnDiversifiedVaR:\n",
      "20526.8489764\n",
      "-18215.9865348\n"
     ]
    }
   ],
   "source": [
    "#Alpha at 95% CF is 1.65 for SND\n",
    "alpha = 1.65\n",
    "\n",
    "DiversifiedVaR=alpha*np.std(Fit_mu_even)*Tot_W\n",
    "print(DiversifiedVaR)\n",
    "fitlist=('AAPL','AET','APCxlsx','AXP','BAC','BMY','COF','F','KO','GOOG','HON','IBM','OKE','T','UPS')\n",
    "\n",
    "std_var=[]\n",
    "Div_VaR_stock={'key':'value'}\n",
    "for fit in fitlist:\n",
    "# Fit a normal distribution to the data:\n",
    "    mu, std = norm.fit(df_freturn['Return_'+fit])\n",
    "    std_var.append(std)\n",
    "    Div_VaR_stock[fit+'_Div_VaR']=(std*(1/15)*Tot_W)\n",
    "        \n",
    "    #i+=1\n",
    "del Div_VaR_stock['key']\n",
    "print(Div_VaR_stock)\n",
    "\n",
    "UnDiversifiedVaR=sum(Div_VaR_stock.values())\n",
    "print('UnDiversifiedVaR:')\n",
    "print(UnDiversifiedVaR)\n",
    "\n",
    "benefit=DiversifiedVaR-UnDiversifiedVaR\n",
    "print(benefit)"
   ]
  },
  {
   "cell_type": "code",
   "execution_count": null,
   "metadata": {
    "collapsed": true
   },
   "outputs": [],
   "source": []
  },
  {
   "cell_type": "code",
   "execution_count": 10,
   "metadata": {},
   "outputs": [
    {
     "name": "stdout",
     "output_type": "stream",
     "text": [
      "   Return_AAPL  Return_AET  Return_APCxlsx  Return_AXP  Return_BAC  \\\n",
      "0     0.000000    0.000000        0.000000    0.000000    0.000000   \n",
      "1     0.005374    0.018868        0.014240   -0.003100    0.001724   \n",
      "2     0.011102    0.009954        0.012912    0.011609    0.086059   \n",
      "3     0.010454    0.010085       -0.006559   -0.010861   -0.020602   \n",
      "4    -0.001586    0.001588        0.006229    0.002486    0.014563   \n",
      "\n",
      "   Return_BMY  Return_COF  Return_F  Return_KO  Return_GOOG  Return_HON  \\\n",
      "0    0.000000    0.000000  0.000000   0.000000     0.000000    0.000000   \n",
      "1   -0.019137    0.017143  0.015274  -0.006273     0.004313   -0.000900   \n",
      "2   -0.005242    0.015281  0.025664  -0.004734    -0.013871    0.001080   \n",
      "3    0.001756   -0.000443  0.010354  -0.006343    -0.013642   -0.007375   \n",
      "4   -0.009059    0.024136  0.007686   0.000000    -0.042399    0.008336   \n",
      "\n",
      "   Return_IBM  Return_OKE  Return_T  Return_UPS  \n",
      "0    0.000000    0.000000  0.000000    0.000000  \n",
      "1   -0.004079   -0.000801  0.001646   -0.004315  \n",
      "2   -0.004743    0.001030 -0.000986   -0.009751  \n",
      "3   -0.011481   -0.002630 -0.023684    0.004923  \n",
      "4   -0.005204   -0.005160 -0.000674   -0.000408  \n"
     ]
    }
   ],
   "source": [
    "\n",
    "df_var12=df_cov.divide(15)\n",
    "print(df_cov.head())\n",
    "\n"
   ]
  },
  {
   "cell_type": "code",
   "execution_count": 11,
   "metadata": {
    "scrolled": true
   },
   "outputs": [
    {
     "name": "stdout",
     "output_type": "stream",
     "text": [
      "   Return_AAPL  Return_AET  Return_APCxlsx  Return_AXP  Return_BAC  \\\n",
      "0     0.000000    0.000000        0.000000    0.000000    0.000000   \n",
      "1     0.000358    0.001258        0.000949   -0.000207    0.000115   \n",
      "2     0.000740    0.000664        0.000861    0.000774    0.005737   \n",
      "3     0.000697    0.000672       -0.000437   -0.000724   -0.001373   \n",
      "4    -0.000106    0.000106        0.000415    0.000166    0.000971   \n",
      "\n",
      "   Return_BMY  Return_COF  Return_F  Return_KO  Return_GOOG  Return_HON  \\\n",
      "0    0.000000    0.000000  0.000000   0.000000     0.000000    0.000000   \n",
      "1   -0.001276    0.001143  0.001018  -0.000418     0.000288   -0.000060   \n",
      "2   -0.000349    0.001019  0.001711  -0.000316    -0.000925    0.000072   \n",
      "3    0.000117   -0.000030  0.000690  -0.000423    -0.000909   -0.000492   \n",
      "4   -0.000604    0.001609  0.000512   0.000000    -0.002827    0.000556   \n",
      "\n",
      "   Return_IBM  Return_OKE  Return_T  Return_UPS  \n",
      "0    0.000000    0.000000  0.000000    0.000000  \n",
      "1   -0.000272   -0.000053  0.000110   -0.000288  \n",
      "2   -0.000316    0.000069 -0.000066   -0.000650  \n",
      "3   -0.000765   -0.000175 -0.001579    0.000328  \n",
      "4   -0.000347   -0.000344 -0.000045   -0.000027  \n"
     ]
    }
   ],
   "source": [
    "print(df_var12.head())"
   ]
  },
  {
   "cell_type": "code",
   "execution_count": 12,
   "metadata": {},
   "outputs": [
    {
     "data": {
      "text/html": [
       "<div>\n",
       "<style>\n",
       "    .dataframe thead tr:only-child th {\n",
       "        text-align: right;\n",
       "    }\n",
       "\n",
       "    .dataframe thead th {\n",
       "        text-align: left;\n",
       "    }\n",
       "\n",
       "    .dataframe tbody tr th {\n",
       "        vertical-align: top;\n",
       "    }\n",
       "</style>\n",
       "<table border=\"1\" class=\"dataframe\">\n",
       "  <thead>\n",
       "    <tr style=\"text-align: right;\">\n",
       "      <th></th>\n",
       "      <th>P_return</th>\n",
       "    </tr>\n",
       "  </thead>\n",
       "  <tbody>\n",
       "    <tr>\n",
       "      <th>0</th>\n",
       "      <td>0.000000</td>\n",
       "    </tr>\n",
       "    <tr>\n",
       "      <th>1</th>\n",
       "      <td>0.002665</td>\n",
       "    </tr>\n",
       "    <tr>\n",
       "      <th>2</th>\n",
       "      <td>0.009024</td>\n",
       "    </tr>\n",
       "    <tr>\n",
       "      <th>3</th>\n",
       "      <td>-0.004403</td>\n",
       "    </tr>\n",
       "    <tr>\n",
       "      <th>4</th>\n",
       "      <td>0.000036</td>\n",
       "    </tr>\n",
       "    <tr>\n",
       "      <th>5</th>\n",
       "      <td>0.011737</td>\n",
       "    </tr>\n",
       "    <tr>\n",
       "      <th>6</th>\n",
       "      <td>0.002447</td>\n",
       "    </tr>\n",
       "    <tr>\n",
       "      <th>7</th>\n",
       "      <td>0.000168</td>\n",
       "    </tr>\n",
       "    <tr>\n",
       "      <th>8</th>\n",
       "      <td>-0.005231</td>\n",
       "    </tr>\n",
       "    <tr>\n",
       "      <th>9</th>\n",
       "      <td>0.003471</td>\n",
       "    </tr>\n",
       "    <tr>\n",
       "      <th>10</th>\n",
       "      <td>0.011723</td>\n",
       "    </tr>\n",
       "    <tr>\n",
       "      <th>11</th>\n",
       "      <td>0.000364</td>\n",
       "    </tr>\n",
       "    <tr>\n",
       "      <th>12</th>\n",
       "      <td>-0.009906</td>\n",
       "    </tr>\n",
       "    <tr>\n",
       "      <th>13</th>\n",
       "      <td>0.002960</td>\n",
       "    </tr>\n",
       "    <tr>\n",
       "      <th>14</th>\n",
       "      <td>-0.005552</td>\n",
       "    </tr>\n",
       "    <tr>\n",
       "      <th>15</th>\n",
       "      <td>0.010692</td>\n",
       "    </tr>\n",
       "    <tr>\n",
       "      <th>16</th>\n",
       "      <td>-0.006022</td>\n",
       "    </tr>\n",
       "    <tr>\n",
       "      <th>17</th>\n",
       "      <td>-0.002877</td>\n",
       "    </tr>\n",
       "    <tr>\n",
       "      <th>18</th>\n",
       "      <td>-0.002355</td>\n",
       "    </tr>\n",
       "    <tr>\n",
       "      <th>19</th>\n",
       "      <td>0.004211</td>\n",
       "    </tr>\n",
       "    <tr>\n",
       "      <th>20</th>\n",
       "      <td>0.007604</td>\n",
       "    </tr>\n",
       "    <tr>\n",
       "      <th>21</th>\n",
       "      <td>0.001783</td>\n",
       "    </tr>\n",
       "    <tr>\n",
       "      <th>22</th>\n",
       "      <td>0.017878</td>\n",
       "    </tr>\n",
       "    <tr>\n",
       "      <th>23</th>\n",
       "      <td>-0.000947</td>\n",
       "    </tr>\n",
       "    <tr>\n",
       "      <th>24</th>\n",
       "      <td>0.005284</td>\n",
       "    </tr>\n",
       "    <tr>\n",
       "      <th>25</th>\n",
       "      <td>0.003204</td>\n",
       "    </tr>\n",
       "    <tr>\n",
       "      <th>26</th>\n",
       "      <td>0.004418</td>\n",
       "    </tr>\n",
       "    <tr>\n",
       "      <th>27</th>\n",
       "      <td>-0.006883</td>\n",
       "    </tr>\n",
       "    <tr>\n",
       "      <th>28</th>\n",
       "      <td>0.008584</td>\n",
       "    </tr>\n",
       "    <tr>\n",
       "      <th>29</th>\n",
       "      <td>-0.001985</td>\n",
       "    </tr>\n",
       "    <tr>\n",
       "      <th>...</th>\n",
       "      <td>...</td>\n",
       "    </tr>\n",
       "    <tr>\n",
       "      <th>472</th>\n",
       "      <td>-0.003305</td>\n",
       "    </tr>\n",
       "    <tr>\n",
       "      <th>473</th>\n",
       "      <td>-0.000461</td>\n",
       "    </tr>\n",
       "    <tr>\n",
       "      <th>474</th>\n",
       "      <td>-0.001913</td>\n",
       "    </tr>\n",
       "    <tr>\n",
       "      <th>475</th>\n",
       "      <td>0.010956</td>\n",
       "    </tr>\n",
       "    <tr>\n",
       "      <th>476</th>\n",
       "      <td>0.003723</td>\n",
       "    </tr>\n",
       "    <tr>\n",
       "      <th>477</th>\n",
       "      <td>0.001077</td>\n",
       "    </tr>\n",
       "    <tr>\n",
       "      <th>478</th>\n",
       "      <td>0.000553</td>\n",
       "    </tr>\n",
       "    <tr>\n",
       "      <th>479</th>\n",
       "      <td>0.002862</td>\n",
       "    </tr>\n",
       "    <tr>\n",
       "      <th>480</th>\n",
       "      <td>0.000226</td>\n",
       "    </tr>\n",
       "    <tr>\n",
       "      <th>481</th>\n",
       "      <td>-0.004880</td>\n",
       "    </tr>\n",
       "    <tr>\n",
       "      <th>482</th>\n",
       "      <td>-0.001377</td>\n",
       "    </tr>\n",
       "    <tr>\n",
       "      <th>483</th>\n",
       "      <td>-0.000452</td>\n",
       "    </tr>\n",
       "    <tr>\n",
       "      <th>484</th>\n",
       "      <td>-0.005120</td>\n",
       "    </tr>\n",
       "    <tr>\n",
       "      <th>485</th>\n",
       "      <td>0.006310</td>\n",
       "    </tr>\n",
       "    <tr>\n",
       "      <th>486</th>\n",
       "      <td>0.001113</td>\n",
       "    </tr>\n",
       "    <tr>\n",
       "      <th>487</th>\n",
       "      <td>-0.003097</td>\n",
       "    </tr>\n",
       "    <tr>\n",
       "      <th>488</th>\n",
       "      <td>-0.010820</td>\n",
       "    </tr>\n",
       "    <tr>\n",
       "      <th>489</th>\n",
       "      <td>-0.004732</td>\n",
       "    </tr>\n",
       "    <tr>\n",
       "      <th>490</th>\n",
       "      <td>-0.004381</td>\n",
       "    </tr>\n",
       "    <tr>\n",
       "      <th>491</th>\n",
       "      <td>0.009004</td>\n",
       "    </tr>\n",
       "    <tr>\n",
       "      <th>492</th>\n",
       "      <td>-0.003702</td>\n",
       "    </tr>\n",
       "    <tr>\n",
       "      <th>493</th>\n",
       "      <td>0.011692</td>\n",
       "    </tr>\n",
       "    <tr>\n",
       "      <th>494</th>\n",
       "      <td>-0.000508</td>\n",
       "    </tr>\n",
       "    <tr>\n",
       "      <th>495</th>\n",
       "      <td>0.004221</td>\n",
       "    </tr>\n",
       "    <tr>\n",
       "      <th>496</th>\n",
       "      <td>0.005831</td>\n",
       "    </tr>\n",
       "    <tr>\n",
       "      <th>497</th>\n",
       "      <td>0.002229</td>\n",
       "    </tr>\n",
       "    <tr>\n",
       "      <th>498</th>\n",
       "      <td>0.004636</td>\n",
       "    </tr>\n",
       "    <tr>\n",
       "      <th>499</th>\n",
       "      <td>0.001257</td>\n",
       "    </tr>\n",
       "    <tr>\n",
       "      <th>500</th>\n",
       "      <td>0.000068</td>\n",
       "    </tr>\n",
       "    <tr>\n",
       "      <th>501</th>\n",
       "      <td>0.006108</td>\n",
       "    </tr>\n",
       "  </tbody>\n",
       "</table>\n",
       "<p>502 rows × 1 columns</p>\n",
       "</div>"
      ],
      "text/plain": [
       "     P_return\n",
       "0    0.000000\n",
       "1    0.002665\n",
       "2    0.009024\n",
       "3   -0.004403\n",
       "4    0.000036\n",
       "5    0.011737\n",
       "6    0.002447\n",
       "7    0.000168\n",
       "8   -0.005231\n",
       "9    0.003471\n",
       "10   0.011723\n",
       "11   0.000364\n",
       "12  -0.009906\n",
       "13   0.002960\n",
       "14  -0.005552\n",
       "15   0.010692\n",
       "16  -0.006022\n",
       "17  -0.002877\n",
       "18  -0.002355\n",
       "19   0.004211\n",
       "20   0.007604\n",
       "21   0.001783\n",
       "22   0.017878\n",
       "23  -0.000947\n",
       "24   0.005284\n",
       "25   0.003204\n",
       "26   0.004418\n",
       "27  -0.006883\n",
       "28   0.008584\n",
       "29  -0.001985\n",
       "..        ...\n",
       "472 -0.003305\n",
       "473 -0.000461\n",
       "474 -0.001913\n",
       "475  0.010956\n",
       "476  0.003723\n",
       "477  0.001077\n",
       "478  0.000553\n",
       "479  0.002862\n",
       "480  0.000226\n",
       "481 -0.004880\n",
       "482 -0.001377\n",
       "483 -0.000452\n",
       "484 -0.005120\n",
       "485  0.006310\n",
       "486  0.001113\n",
       "487 -0.003097\n",
       "488 -0.010820\n",
       "489 -0.004732\n",
       "490 -0.004381\n",
       "491  0.009004\n",
       "492 -0.003702\n",
       "493  0.011692\n",
       "494 -0.000508\n",
       "495  0.004221\n",
       "496  0.005831\n",
       "497  0.002229\n",
       "498  0.004636\n",
       "499  0.001257\n",
       "500  0.000068\n",
       "501  0.006108\n",
       "\n",
       "[502 rows x 1 columns]"
      ]
     },
     "execution_count": 12,
     "metadata": {},
     "output_type": "execute_result"
    }
   ],
   "source": [
    "\n",
    "df_ret_port=pd.DataFrame(df_var12.sum(axis=1), columns = [\"P_return\"])\n",
    "df_ret_port\n"
   ]
  },
  {
   "cell_type": "markdown",
   "metadata": {},
   "source": [
    "# Task 3: \n",
    "\n",
    "### 1. Write a python function that calculates the marginal VaR (denoted by VaR) at 95% confidence level for a given asset. Test the function on the even position p0.\n",
    "\n",
    "### 2. Write a python function that calculates the systematic risk (denoted by beta) at 95% confidence level for a given asset. Test the function on the even position p0."
   ]
  },
  {
   "cell_type": "code",
   "execution_count": 13,
   "metadata": {},
   "outputs": [
    {
     "name": "stdout",
     "output_type": "stream",
     "text": [
      "Marginal VaR\n",
      "\n",
      "{'AAPL_Mar_VaR': 0.013743976414411762, 'AET_Mar_VaR': 0.011760891047328869, 'APCxlsx_Mar_VaR': 0.019304587260521904, 'AXP_Mar_VaR': 0.014731248917388046, 'BAC_Mar_VaR': 0.023437900908908512, 'BMY_Mar_VaR': 0.010271477885930885, 'COF_Mar_VaR': 0.017016424127620548, 'F_Mar_VaR': 0.016405887833035124, 'KO_Mar_VaR': 0.0089736102175545489, 'GOOG_Mar_VaR': 0.012036819324119392, 'HON_Mar_VaR': 0.014730847384444499, 'IBM_Mar_VaR': 0.0095325048822954162, 'OKE_Mar_VaR': 0.012853328353742905, 'T_Mar_VaR': 0.0081250577900093286, 'UPS_Mar_VaR': 0.0091574937449803509}\n",
      "\n",
      "\n",
      "\n",
      "\n",
      "\n",
      "systematic risk\n",
      "\n",
      "{'AAPL_Sys_VaR': 1.0222141763129466, 'AET_Sys_VaR': 0.87472134643983468, 'APCxlsx_Sys_VaR': 1.4357870073819088, 'AXP_Sys_VaR': 1.0956429947273967, 'BAC_Sys_VaR': 1.7432039934950512, 'BMY_Sys_VaR': 0.76394559988284638, 'COF_Sys_VaR': 1.265603887035764, 'F_Sys_VaR': 1.2201949866811057, 'KO_Sys_VaR': 0.66741613202073902, 'GOOG_Sys_VaR': 0.89524363108848359, 'HON_Sys_VaR': 1.0956131305414596, 'IBM_Sys_VaR': 0.70898416387247587, 'OKE_Sys_VaR': 0.95597184248831424, 'T_Sys_VaR': 0.60430467907383645, 'UPS_Sys_VaR': 0.68109254871831026}\n"
     ]
    }
   ],
   "source": [
    "fitlist=('AAPL','AET','APCxlsx','AXP','BAC','BMY','COF','F','KO','GOOG','HON','IBM','OKE','T','UPS')\n",
    "\n",
    "\n",
    "\n",
    "Mar_VaR_stock={}\n",
    "Sys_VaR_stock={}\n",
    "for fit in fitlist:\n",
    "    Mar_VaR_stock[fit+'_Mar_VaR']=alpha*(df_cov['Return_'+fit].cov(df_ret_port['P_return'])/np.std(df_ret_port['P_return']))\n",
    "    Sys_VaR_stock[fit+'_Sys_VaR']=(df_cov['Return_'+fit].cov(df_ret_port['P_return'])/np.var(df_ret_port['P_return']))\n",
    "\n",
    "\n",
    "print(\"Marginal VaR\")\n",
    "print (\"\")\n",
    "print(Mar_VaR_stock)\n",
    "print (\"\")\n",
    "print (\"\")\n",
    "print (\"\")\n",
    "print (\"\")\n",
    "print (\"\")\n",
    "print(\"systematic risk\")\n",
    "print (\"\")\n",
    "print(Sys_VaR_stock)"
   ]
  },
  {
   "cell_type": "markdown",
   "metadata": {},
   "source": [
    "### 3. Let a = (a1; : : : ; a15) represent a change in position (so new position = p + a, where p is the original position). Write a python function that takes a change in position a and an original position p and calculates exactly the incremental VaR. Test the function on the even position p := p0 and a = (for assets 1 to 7 z }| {-10;000 ; : : : ;-10;000 ; for assets 8 to 14 z }| {5;000; : : : ; 5;000 ; 35;000).\n",
    "\n"
   ]
  },
  {
   "cell_type": "code",
   "execution_count": 14,
   "metadata": {},
   "outputs": [
    {
     "name": "stdout",
     "output_type": "stream",
     "text": [
      "2307.78922974\n",
      "2250.05412007\n"
     ]
    },
    {
     "data": {
      "text/plain": [
       "-57.735109672135877"
      ]
     },
     "execution_count": 14,
     "metadata": {},
     "output_type": "execute_result"
    }
   ],
   "source": [
    "import numpy as np\n",
    "from scipy.stats import norm\n",
    "import matplotlib.pyplot as plt\n",
    "\n",
    "alpha=1.65\n",
    "Tot_W=1500000\n",
    "p=[100000,100000,100000,100000,100000,100000,100000,100000,100000,100000,100000,100000,100000,100000,100000]\n",
    "a=[-10000,-10000,-10000,-10000,-10000,-10000,-10000,5000,5000,5000,5000,5000,5000,5000,35000]\n",
    "\n",
    "def incremental_VaR(p,a):\n",
    "    p_add_a=[x + y for x, y in zip(p, a)]\n",
    "    p_add_a\n",
    "    Final_prop_alloc=[x/Tot_W for x in p]\n",
    "    New_prop_alloc=[x/Tot_W for x in p_add_a]\n",
    "  \n",
    "    fitlist=('AAPL','AET','APCxlsx','AXP','BAC','BMY','COF','F','KO','GOOG','HON','IBM','OKE','T','UPS')\n",
    "\n",
    "    mean=[]\n",
    "    for fit in fitlist:\n",
    "    # Fit a normal distribution to the data:\n",
    "        mu, std = norm.fit(df_freturn['Return_'+fit])\n",
    "        mean.append(mu)\n",
    "\n",
    "\n",
    "    fit_mu=np.random.multivariate_normal(mean,df_cov.cov(),502)\n",
    "\n",
    "    \n",
    "    Fit_mu_even_p=np.array(fit_mu)* np.array(Final_prop_alloc)\n",
    "    Fit_mu_even_P_add_a=np.array(fit_mu)* np.array( New_prop_alloc)\n",
    "   \n",
    "    #Fit_mu_even_p=[x * y for x, y in zip(fit_mu, Final_prop_alloc)]\n",
    "    #Fit_mu_even_P_add_a=[x * y for x, y in zip(fit_mu, New_prop_alloc)]\n",
    "\n",
    "\n",
    "    DiversifiedVaR_p=alpha*np.std(Fit_mu_even_p)*Tot_W\n",
    "    DiversifiedVaR_P_add_a=alpha*np.std(Fit_mu_even_P_add_a)*Tot_W\n",
    "    increment_Var=DiversifiedVaR_P_add_a-DiversifiedVaR_p\n",
    "    print(DiversifiedVaR_p)\n",
    "    print(DiversifiedVaR_P_add_a)\n",
    "    return increment_Var\n",
    "\n",
    "\n",
    "val=incremental_VaR(p,a)\n",
    "val\n",
    "\n",
    "    #Fit_mu_even\n",
    "#Fit_mu_even_n = [x/15 for x in fit_mu]\n",
    "#df_cov.cov()\n",
    "\n",
    "\n",
    "\n"
   ]
  },
  {
   "cell_type": "code",
   "execution_count": 51,
   "metadata": {},
   "outputs": [
    {
     "name": "stdout",
     "output_type": "stream",
     "text": [
      "[ 0.01374398  0.01176089  0.01930459  0.01473125  0.0234379   0.01027148\n",
      "  0.01701642  0.01640589  0.00897361  0.01203682  0.01473085  0.0095325\n",
      "  0.01285333  0.00812506  0.00915749]\n",
      "[-137.43976414 -117.60891047 -193.04587261 -147.31248917 -234.37900909\n",
      " -102.71477886 -170.16424128   82.02943917   44.86805109   60.18409662\n",
      "   73.65423692   47.66252441   64.26664177   40.62528895  320.51228107]\n"
     ]
    },
    {
     "data": {
      "text/plain": [
       "-368.86250562078686"
      ]
     },
     "execution_count": 51,
     "metadata": {},
     "output_type": "execute_result"
    }
   ],
   "source": [
    "#change in Position a\n",
    "a=[-10000,-10000,-10000,-10000,-10000,-10000,-10000,5000,5000,5000,5000,5000,5000,5000,35000]\n",
    "\n",
    "#transpose for further calculation\n",
    "aT=np.array(np.transpose(a))\n",
    "\n",
    "Mar_array=np.array(list(Mar_VaR_stock.values()))\n",
    "print(Mar_array)\n",
    "\n",
    "first_order_approx=np.multiply(Mar_array,aT)\n",
    "print(first_order_approx)\n",
    "first_order_approxVal=np.sum(first_order_approx)\n",
    "\n",
    "first_order_approxVal"
   ]
  },
  {
   "cell_type": "code",
   "execution_count": 15,
   "metadata": {},
   "outputs": [
    {
     "ename": "SyntaxError",
     "evalue": "invalid syntax (<ipython-input-15-647afc41aeaf>, line 1)",
     "output_type": "error",
     "traceback": [
      "\u001b[1;36m  File \u001b[1;32m\"<ipython-input-15-647afc41aeaf>\"\u001b[1;36m, line \u001b[1;32m1\u001b[0m\n\u001b[1;33m    Write a python function that calculates the Best Hedge\u001b[0m\n\u001b[1;37m          ^\u001b[0m\n\u001b[1;31mSyntaxError\u001b[0m\u001b[1;31m:\u001b[0m invalid syntax\n"
     ]
    }
   ],
   "source": [
    "Write a python function that calculates the Best Hedge\n",
    "di=-WBi (std^2p/std^2i)\n",
    "for a given asset i. Test the function on the even position p0."
   ]
  },
  {
   "cell_type": "code",
   "execution_count": 16,
   "metadata": {},
   "outputs": [
    {
     "name": "stdout",
     "output_type": "stream",
     "text": [
      "{'AAPL_best_hedge': -305573.90395737841, 'AET_best_hedge': -400757.22008359805, 'APCxlsx_best_hedge': -515533.28141661891, 'AXP_best_hedge': -759984.06244068209, 'BAC_best_hedge': -424891.07665800926, 'BMY_best_hedge': -482055.90745142364, 'COF_best_hedge': -575395.02857438801, 'F_best_hedge': -507902.67902530159, 'KO_best_hedge': -804488.9172569575, 'GOOG_best_hedge': -451687.51329673943, 'HON_best_hedge': -804710.19885848474, 'IBM_best_hedge': -585012.86294759193, 'OKE_best_hedge': -351751.2322644841, 'T_best_hedge': -681042.8423428348, 'UPS_best_hedge': -845303.10745194869}\n"
     ]
    }
   ],
   "source": [
    "import numpy as np\n",
    "from scipy.stats import norm\n",
    "\n",
    "alpha=1.65\n",
    "\n",
    "def best_hedge(w,var_p,fit):\n",
    "        \n",
    "    mu, std_i = norm.fit(df_freturn['Return_'+fit])\n",
    "\n",
    "    val=(-1)*w*Sys_VaR_stock[fit+'_Sys_VaR']*(var_p/std_i**2)\n",
    "\n",
    "    return val\n",
    "            \n",
    "w=1500000\n",
    "var_p=np.var(df_ret_port['P_return'])\n",
    "fitlist=('AAPL','AET','APCxlsx','AXP','BAC','BMY','COF','F','KO','GOOG','HON','IBM','OKE','T','UPS')\n",
    "best_hedge_dict={}\n",
    "for fit in fitlist:\n",
    "# Fit a normal distribution to the data:\n",
    "    best_hedge_dict[fit+'_best_hedge'] = best_hedge(w,var_p,fit)\n",
    "\n",
    "print(best_hedge_dict)       "
   ]
  },
  {
   "cell_type": "markdown",
   "metadata": {},
   "source": [
    "### Write a python function that calculates the Component VaR\n",
    "### CVaRi = VaRBiwi\n",
    "### for a given asset i. Test the function on the even position p0.   "
   ]
  },
  {
   "cell_type": "code",
   "execution_count": 17,
   "metadata": {},
   "outputs": [
    {
     "name": "stdout",
     "output_type": "stream",
     "text": [
      "{'AAPL_component_var': 4.5250538866612362e-06, 'AET_component_var': 3.8721447228700426e-06, 'APCxlsx_component_var': 6.3558241792394959e-06, 'AXP_component_var': 4.8501025583180123e-06, 'BAC_component_var': 7.7166724829232482e-06, 'BMY_component_var': 3.3817717324332136e-06, 'COF_component_var': 5.6024714983521005e-06, 'F_component_var': 5.4014591021241369e-06, 'KO_component_var': 2.954463000223805e-06, 'GOOG_component_var': 3.9629910895752008e-06, 'HON_component_var': 4.8499703579887891e-06, 'IBM_component_var': 3.1384729547423524e-06, 'OKE_component_var': 4.2318177556423525e-06, 'T_component_var': 2.6750863959193182e-06, 'UPS_component_var': 3.0150046400943885e-06}\n"
     ]
    }
   ],
   "source": [
    "def component_var(var_p,fit):\n",
    "    val = var_p * Sys_VaR_stock[fit+'_Sys_VaR'] * (1/15)\n",
    "    return val\n",
    "                \n",
    "\n",
    "var_p=np.var(df_ret_port['P_return'])\n",
    "fitlist=('AAPL','AET','APCxlsx','AXP','BAC','BMY','COF','F','KO','GOOG','HON','IBM','OKE','T','UPS')\n",
    "component_var_dict={}\n",
    "for fit in fitlist:\n",
    "    component_var_dict[fit+'_component_var'] = component_var(var_p,fit)\n",
    "\n",
    "print(component_var_dict) "
   ]
  },
  {
   "cell_type": "markdown",
   "metadata": {
    "collapsed": true
   },
   "source": [
    "# Task 4: \n",
    "### Do the following: 1. Use the functions defined in Task 2 and Task 3 to define a function that performs the risk minimization algorithm discussed in Lecture-8 1.pdf slide 27. Set as a stopping condition:  \n",
    "\n",
    "### max{|beta_i-beta_j| | i,j belongs to {1,........,,15}} < 0.001\n",
    "### i.e the maximum absolute difference of any pair of betas is less than 0.001. Test the function the even position p0."
   ]
  },
  {
   "cell_type": "code",
   "execution_count": 20,
   "metadata": {},
   "outputs": [
    {
     "data": {
      "text/plain": [
       "{'AAPL_Mar_VaR': 0.013743976414411762,\n",
       " 'AET_Mar_VaR': 0.011760891047328869,\n",
       " 'APCxlsx_Mar_VaR': 0.019304587260521904,\n",
       " 'AXP_Mar_VaR': 0.014731248917388046,\n",
       " 'BAC_Mar_VaR': 0.023437900908908512,\n",
       " 'BMY_Mar_VaR': 0.010271477885930885,\n",
       " 'COF_Mar_VaR': 0.017016424127620548,\n",
       " 'F_Mar_VaR': 0.016405887833035124,\n",
       " 'GOOG_Mar_VaR': 0.012036819324119392,\n",
       " 'HON_Mar_VaR': 0.014730847384444499,\n",
       " 'IBM_Mar_VaR': 0.0095325048822954162,\n",
       " 'KO_Mar_VaR': 0.0089736102175545489,\n",
       " 'OKE_Mar_VaR': 0.012853328353742905,\n",
       " 'T_Mar_VaR': 0.0081250577900093286,\n",
       " 'UPS_Mar_VaR': 0.0091574937449803509}"
      ]
     },
     "execution_count": 20,
     "metadata": {},
     "output_type": "execute_result"
    }
   ],
   "source": [
    "#def risk_minimize_alg:\n",
    "    #step 1 get max and min marginal Var of already calculated Marginal Var Dictionary Mar_VaR_stock\n",
    " #   Mar_VaR_stock\n",
    "    \n",
    "max_Mar_Var=max(zip(Mar_VaR_stock.values()))\n",
    "min_Mar_Var=min(zip(Mar_VaR_stock.values()))\n",
    "\n"
   ]
  },
  {
   "cell_type": "code",
   "execution_count": null,
   "metadata": {
    "collapsed": true
   },
   "outputs": [],
   "source": []
  },
  {
   "cell_type": "markdown",
   "metadata": {
    "collapsed": true
   },
   "source": [
    "# Part 3\n",
    "### The tasks in this part refer to the Black-Scholes options pricing theory discussed in lecture 10.2, see Lecture-10 2.pdf for details. For the remaining tasks de\f",
    "ne the following European call and put payo function, respectively: fcall = max fST - K; 0g and fput = max fK 􀀀 ST ; 0g ;\n",
    "where ST is the stock price at time T and K is the option's strike.\n",
    "In lecture 10.2 it was shown that the price of a one period option with payo\u000b",
    " function f is given by\n",
    "e􀀀rTE\n",
    "h\n",
    "f\n",
    "\u0010\n",
    "S0e(r􀀀1\n",
    "2\u001b2)T+\u001b\n",
    "p\n",
    "TN(0;1)\n",
    "\u0011i\n",
    ";\n",
    "where r is the continuously compounding rate, T is the expiry time, S0 is the initial price of the stock,\n",
    "\u001b is the standard deviation of the stock prices, and N(0; 1) is a standard normal random variable. As\n",
    "discussed in class, the option price can be approximated by the following Monte Carlo simulation:\n",
    "1. Given S0, r, T, K, and \u001b calculate e􀀀rT .\n",
    "2. Set \u0006 = 0\n",
    "3. Draw a random value X from N(0; 1).\n",
    "4. Set \u0006 := \u0006 + f\n",
    "\u0010\n",
    "S0e(r􀀀1\n",
    "2\u001b2)T+\u001b\n",
    "p\n",
    "TX\n",
    "\u0011\n",
    ", this is the main computational part of the simulation.\n",
    "5. Repeat steps 3 and 4 a total of N times, where N is a large number.\n",
    "6. The option price is approximated by\n",
    "e􀀀rT\n",
    "N\n",
    "\u0006\n",
    "Task 8: Write a python function that approximates via Monte Carlo simulation the price of an European\n",
    "call option taking as input S0;K; r; T; \u001b. This function should perform 15,000 random samples, so\n",
    "6\n",
    "use N = 15;000. Test the function on the Coca-Cola Company stock prices given in \f",
    "le KO.csv\n",
    "with compound rate r = 0:03, expiration time T = 90, and strike K = 37.\n",
    "\n",
    "\n",
    "Task 10: Use the code generated in Task 8 to plot the European call option price as a function of strike K\n",
    "where K 2 [35:10; 50:00] applied to the Coca-Cola Company stock prices given in \f",
    "le KO.csv with\n",
    "compound rate r = 0:03 and expiration time T = 90.\n",
    "Note: Reduce the number of random samples used in the simulation if the code takes too long to\n",
    "run in your computer."
   ]
  },
  {
   "cell_type": "code",
   "execution_count": null,
   "metadata": {
    "collapsed": true
   },
   "outputs": [],
   "source": []
  },
  {
   "cell_type": "code",
   "execution_count": 42,
   "metadata": {},
   "outputs": [
    {
     "name": "stdout",
     "output_type": "stream",
     "text": [
      "0      0.0\n",
      "1      0.0\n",
      "2      0.0\n",
      "3      0.0\n",
      "4      0.0\n",
      "5      0.0\n",
      "6      0.0\n",
      "7      0.0\n",
      "8      0.0\n",
      "9      0.0\n",
      "10     0.0\n",
      "11     0.0\n",
      "12     0.0\n",
      "13     0.0\n",
      "14     0.0\n",
      "15     0.0\n",
      "16     0.0\n",
      "17     0.0\n",
      "18     0.0\n",
      "19     0.0\n",
      "20     0.0\n",
      "21     0.0\n",
      "22     0.0\n",
      "23     0.0\n",
      "24     0.0\n",
      "25     0.0\n",
      "26     0.0\n",
      "27     0.0\n",
      "28     0.0\n",
      "29     0.0\n",
      "      ... \n",
      "472    0.0\n",
      "473    0.0\n",
      "474    0.0\n",
      "475    0.0\n",
      "476    0.0\n",
      "477    0.0\n",
      "478    0.0\n",
      "479    0.0\n",
      "480    0.0\n",
      "481    0.0\n",
      "482    0.0\n",
      "483    0.0\n",
      "484    0.0\n",
      "485    0.0\n",
      "486    0.0\n",
      "487    0.0\n",
      "488    0.0\n",
      "489    0.0\n",
      "490    0.0\n",
      "491    0.0\n",
      "492    0.0\n",
      "493    0.0\n",
      "494    0.0\n",
      "495    0.0\n",
      "496    0.0\n",
      "497    0.0\n",
      "498    0.0\n",
      "499    0.0\n",
      "500    0.0\n",
      "501    0.0\n",
      "Name: Call_Payoff, Length: 502, dtype: float64\n"
     ]
    }
   ],
   "source": [
    "import math\n",
    "from random import gauss\n",
    "from math import exp, sqrt\n",
    "ko_csv = pd.read_csv('KO.csv')\n",
    "\n",
    "def generate_asset_price(S,v,r,T):\n",
    "    return S * exp((r - 0.5 * v**2) * T + v * sqrt(T) * gauss(0,1.0))\n",
    "\n",
    "def call_payoff(S_T,K):\n",
    "    return max(0.0,S_T-K)\n",
    "\n",
    "def monte_carlo_call(r,T,K,simulations):\n",
    "    std_ko = np.std(ko_csv['Close'])\n",
    "    payoffs = []\n",
    "    discount_factor = math.exp(-r * T)\n",
    "\n",
    "    for index,row in ko_csv.iterrows():\n",
    "        S = row['Close']\n",
    "        for i in range(simulations):\n",
    "            S_T = generate_asset_price(S,std_ko,r,T)\n",
    "            payoffs.append(\n",
    "                call_payoff(S_T, K)\n",
    "            )\n",
    "\n",
    "        price = discount_factor * (sum(payoffs) / float(simulations))\n",
    "        ko_csv.set_value(index,'Call_Payoff',price)\n",
    "\n",
    "r = 0.03 # rate of 3%\n",
    "T = 90\n",
    "K = 37\n",
    "simulations = 15000\n",
    "monte_carlo_call(r,T,K,simulations)\n",
    "\n",
    "print (ko_csv['Call_Payoff'])\n"
   ]
  },
  {
   "cell_type": "markdown",
   "metadata": {},
   "source": [
    "Task 9: Write a python function that approximates via Monte Carlo simulation the price of an European\n",
    "put option taking as input S0;K; r; T; \u001b. This function should perform 15,000 random samples, so\n",
    "use N = 15;000. Test the function on the Coca-Cola Company stock prices given in \f",
    "le KO.csv\n",
    "with compound rate r = 0:03, expiration time T = 90, and strike K = 33."
   ]
  },
  {
   "cell_type": "code",
   "execution_count": 44,
   "metadata": {},
   "outputs": [
    {
     "name": "stdout",
     "output_type": "stream",
     "text": [
      "0         2.217782\n",
      "1         4.435564\n",
      "2         6.653346\n",
      "3         8.871128\n",
      "4        11.088910\n",
      "5        13.306692\n",
      "6        15.524473\n",
      "7        17.742255\n",
      "8        19.960037\n",
      "9        22.177819\n",
      "10       24.395601\n",
      "11       26.613383\n",
      "12       28.831165\n",
      "13       31.048947\n",
      "14       33.266729\n",
      "15       35.484511\n",
      "16       37.702293\n",
      "17       39.920075\n",
      "18       42.137856\n",
      "19       44.355638\n",
      "20       46.573420\n",
      "21       48.791202\n",
      "22       51.008984\n",
      "23       53.226766\n",
      "24       55.444548\n",
      "25       57.662330\n",
      "26       59.880112\n",
      "27       62.097894\n",
      "28       64.315676\n",
      "29       66.533458\n",
      "          ...     \n",
      "472    1049.010848\n",
      "473    1051.228630\n",
      "474    1053.446412\n",
      "475    1055.664194\n",
      "476    1057.881976\n",
      "477    1060.099758\n",
      "478    1062.317540\n",
      "479    1064.535322\n",
      "480    1066.753104\n",
      "481    1068.970886\n",
      "482    1071.188668\n",
      "483    1073.406449\n",
      "484    1075.624231\n",
      "485    1077.842013\n",
      "486    1080.059795\n",
      "487    1082.277577\n",
      "488    1084.495359\n",
      "489    1086.713141\n",
      "490    1088.930923\n",
      "491    1091.148705\n",
      "492    1093.366487\n",
      "493    1095.584269\n",
      "494    1097.802051\n",
      "495    1100.019833\n",
      "496    1102.237614\n",
      "497    1104.455396\n",
      "498    1106.673178\n",
      "499    1108.890960\n",
      "500    1111.108742\n",
      "501    1113.326524\n",
      "Name: Put_Payoff, Length: 502, dtype: float64\n"
     ]
    }
   ],
   "source": [
    "def put_payoff(S_T,K):\n",
    "    return max(0.0,K-S_T)\n",
    "\n",
    "\n",
    "def monte_carlo_put(r,T,K,simulations):\n",
    "    std_ko = np.std(ko_csv['Close'])\n",
    "    payoffs = []\n",
    "    discount_factor = math.exp(-r * T)\n",
    "\n",
    "    for index,row in ko_csv.iterrows():\n",
    "        S = row['Close']\n",
    "        for i in range(simulations):\n",
    "            S_T = generate_asset_price(S,std_ko,r,T)\n",
    "            payoffs.append(\n",
    "                put_payoff(S_T, K)\n",
    "            )\n",
    "\n",
    "        price = discount_factor * (sum(payoffs) / float(simulations))\n",
    "        ko_csv.set_value(index,'Put_Payoff',price)\n",
    "\n",
    "r = 0.03 # rate of 3%\n",
    "T = 90\n",
    "K = 33\n",
    "simulations = 15000\n",
    "monte_carlo_put(r,T,K,simulations)\n",
    "\n",
    "print (ko_csv['Put_Payoff'])\n"
   ]
  },
  {
   "cell_type": "code",
   "execution_count": null,
   "metadata": {
    "collapsed": true
   },
   "outputs": [],
   "source": []
  }
 ],
 "metadata": {
  "kernelspec": {
   "display_name": "Python 3",
   "language": "python",
   "name": "python3"
  },
  "language_info": {
   "codemirror_mode": {
    "name": "ipython",
    "version": 3
   },
   "file_extension": ".py",
   "mimetype": "text/x-python",
   "name": "python",
   "nbconvert_exporter": "python",
   "pygments_lexer": "ipython3",
   "version": "3.6.3"
  }
 },
 "nbformat": 4,
 "nbformat_minor": 2
}
